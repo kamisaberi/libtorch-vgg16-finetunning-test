{
 "cells": [
  {
   "cell_type": "code",
   "id": "initial_id",
   "metadata": {
    "collapsed": true,
    "ExecuteTime": {
     "end_time": "2025-08-11T19:31:21.435041Z",
     "start_time": "2025-08-11T19:07:33.742835Z"
    }
   },
   "source": [
    "import torch\n",
    "import torch.nn as nn\n",
    "import torch.optim as optim\n",
    "from torch.utils.data import DataLoader\n",
    "import torchvision.models as models\n",
    "import torchvision.datasets as datasets\n",
    "import torchvision.transforms as transforms\n",
    "from tqdm import tqdm\n",
    "import time\n",
    "\n",
    "# --- 1. Configuration ---\n",
    "config = {\n",
    "    \"DEVICE\": \"cuda\" if torch.cuda.is_available() else \"cpu\",\n",
    "    \"BATCH_SIZE\": 64,\n",
    "    \"NUM_EPOCHS\": 10,\n",
    "    \"LEARNING_RATE\": 0.001,\n",
    "    \"DATA_DIR\": \"/home/kami/Documents/datasets/\",\n",
    "    \"NUM_CLASSES\": 101\n",
    "}\n",
    "\n",
    "print(f\"--- SCRIPT 2 (Corrected): STANDARD FINE-TUNING with ACCURACY ---\")\n",
    "print(f\"Using device: {config['DEVICE']}\")\n",
    "print(\"-\" * 60)\n",
    "\n",
    "# --- 2. Data Loading ---\n",
    "data_transforms = transforms.Compose([\n",
    "    transforms.Resize(256), transforms.CenterCrop(224), transforms.ToTensor(),\n",
    "    transforms.Normalize(mean=[0.485, 0.456, 0.406], std=[0.229, 0.224, 0.225]),\n",
    "])\n",
    "print(\"Loading Food101 dataset for standard training...\")\n",
    "train_dataset = datasets.Food101(root=config[\"DATA_DIR\"], split='train', download=True, transform=data_transforms)\n",
    "# Use shuffle=True for standard training\n",
    "train_loader = DataLoader(\n",
    "    train_dataset, batch_size=config[\"BATCH_SIZE\"], shuffle=True, num_workers=4, pin_memory=True\n",
    ")\n",
    "\n",
    "# --- 3. Model Initialization ---\n",
    "model = models.vgg16_bn(weights=models.VGG16_BN_Weights.DEFAULT)\n",
    "# Freeze feature layers\n",
    "for param in model.features.parameters():\n",
    "    param.requires_grad = False\n",
    "# Replace classifier\n",
    "model.classifier = nn.Sequential(\n",
    "    nn.Linear(25088, 4096), nn.ReLU(True), nn.Dropout(0.5),\n",
    "    nn.Linear(4096, 1024), nn.ReLU(True), nn.Dropout(0.5),\n",
    "    nn.Linear(1024, config[\"NUM_CLASSES\"])\n",
    ").to(config[\"DEVICE\"])\n",
    "model = model.to(config[\"DEVICE\"])\n",
    "\n",
    "# --- 4. Standard Training Loop ---\n",
    "optimizer = optim.Adam(model.classifier.parameters(), lr=config[\"LEARNING_RATE\"])\n",
    "criterion = nn.CrossEntropyLoss()\n",
    "total_training_time = 0\n",
    "\n",
    "print(\"--- Starting Standard Fine-Tuning Training ---\")\n",
    "for epoch in range(config[\"NUM_EPOCHS\"]):\n",
    "    epoch_start_time = time.time()\n",
    "    model.train() # Set model to training mode\n",
    "\n",
    "    # Variables to calculate metrics for the epoch\n",
    "    running_loss = 0.0\n",
    "    correct = 0\n",
    "    total = 0\n",
    "\n",
    "    pbar = tqdm(train_loader, desc=f\"Epoch {epoch+1}/{config['NUM_EPOCHS']}\")\n",
    "    for images, labels in pbar:\n",
    "        images, labels = images.to(config[\"DEVICE\"]), labels.to(config[\"DEVICE\"])\n",
    "        optimizer.zero_grad()\n",
    "        outputs = model(images)\n",
    "        loss = criterion(outputs, labels)\n",
    "        loss.backward()\n",
    "        optimizer.step()\n",
    "\n",
    "        # Accumulate loss and accuracy stats\n",
    "        running_loss += loss.item()\n",
    "        _, predicted = torch.max(outputs.data, 1)\n",
    "        total += labels.size(0)\n",
    "        correct += (predicted == labels).sum().item()\n",
    "\n",
    "        pbar.set_postfix({\"loss\": f\"{loss.item():.4f}\"})\n",
    "\n",
    "    epoch_time = time.time() - epoch_start_time\n",
    "    total_training_time += epoch_time\n",
    "\n",
    "    # Calculate metrics at the end of the epoch\n",
    "    epoch_loss = running_loss / len(train_loader)\n",
    "    epoch_accuracy = 100 * correct / total\n",
    "\n",
    "    print(\n",
    "        f\"Epoch {epoch+1} completed in {epoch_time:.2f}s | \"\n",
    "        f\"Loss: {epoch_loss:.4f} | \"\n",
    "        f\"Accuracy: {epoch_accuracy:.2f}%\"\n",
    "    )\n",
    "\n",
    "# --- 5. Final Report ---\n",
    "# The metrics from the final epoch are the final results\n",
    "print(\"-\" * 60)\n",
    "print(f\"Finished Standard Training.\")\n",
    "print(f\"Total Time for {config['NUM_EPOCHS']} epochs: {total_training_time:.2f} seconds\")\n",
    "print(f\"Final Training Loss: {epoch_loss:.4f}\")\n",
    "print(f\"Final Training Accuracy: {epoch_accuracy:.2f}%\")\n",
    "print(\"-\" * 60)"
   ],
   "outputs": [
    {
     "name": "stdout",
     "output_type": "stream",
     "text": [
      "--- SCRIPT 2 (Corrected): STANDARD FINE-TUNING with ACCURACY ---\n",
      "Using device: cuda\n",
      "------------------------------------------------------------\n",
      "Loading Food101 dataset for standard training...\n",
      "--- Starting Standard Fine-Tuning Training ---\n"
     ]
    },
    {
     "name": "stderr",
     "output_type": "stream",
     "text": [
      "Epoch 1/10: 100%|██████████| 1184/1184 [02:12<00:00,  8.92it/s, loss=3.1952]\n"
     ]
    },
    {
     "name": "stdout",
     "output_type": "stream",
     "text": [
      "Epoch 1 completed in 132.77s | Loss: 3.1546 | Accuracy: 24.84%\n"
     ]
    },
    {
     "name": "stderr",
     "output_type": "stream",
     "text": [
      "Epoch 2/10: 100%|██████████| 1184/1184 [02:15<00:00,  8.72it/s, loss=2.3959]\n"
     ]
    },
    {
     "name": "stdout",
     "output_type": "stream",
     "text": [
      "Epoch 2 completed in 135.72s | Loss: 2.5334 | Accuracy: 37.84%\n"
     ]
    },
    {
     "name": "stderr",
     "output_type": "stream",
     "text": [
      "Epoch 3/10: 100%|██████████| 1184/1184 [02:19<00:00,  8.49it/s, loss=2.9615]\n"
     ]
    },
    {
     "name": "stdout",
     "output_type": "stream",
     "text": [
      "Epoch 3 completed in 139.48s | Loss: 2.2923 | Accuracy: 43.23%\n"
     ]
    },
    {
     "name": "stderr",
     "output_type": "stream",
     "text": [
      "Epoch 4/10: 100%|██████████| 1184/1184 [02:21<00:00,  8.38it/s, loss=2.3057]\n"
     ]
    },
    {
     "name": "stdout",
     "output_type": "stream",
     "text": [
      "Epoch 4 completed in 141.27s | Loss: 2.1279 | Accuracy: 47.07%\n"
     ]
    },
    {
     "name": "stderr",
     "output_type": "stream",
     "text": [
      "Epoch 5/10: 100%|██████████| 1184/1184 [02:25<00:00,  8.12it/s, loss=1.8872]\n"
     ]
    },
    {
     "name": "stdout",
     "output_type": "stream",
     "text": [
      "Epoch 5 completed in 145.78s | Loss: 2.0137 | Accuracy: 50.07%\n"
     ]
    },
    {
     "name": "stderr",
     "output_type": "stream",
     "text": [
      "Epoch 6/10: 100%|██████████| 1184/1184 [02:28<00:00,  7.99it/s, loss=2.0858]\n"
     ]
    },
    {
     "name": "stdout",
     "output_type": "stream",
     "text": [
      "Epoch 6 completed in 148.16s | Loss: 1.9298 | Accuracy: 52.10%\n"
     ]
    },
    {
     "name": "stderr",
     "output_type": "stream",
     "text": [
      "Epoch 7/10: 100%|██████████| 1184/1184 [02:24<00:00,  8.18it/s, loss=2.6301]\n"
     ]
    },
    {
     "name": "stdout",
     "output_type": "stream",
     "text": [
      "Epoch 7 completed in 144.72s | Loss: 1.8397 | Accuracy: 54.26%\n"
     ]
    },
    {
     "name": "stderr",
     "output_type": "stream",
     "text": [
      "Epoch 8/10: 100%|██████████| 1184/1184 [02:27<00:00,  8.04it/s, loss=2.3803]\n"
     ]
    },
    {
     "name": "stdout",
     "output_type": "stream",
     "text": [
      "Epoch 8 completed in 147.29s | Loss: 1.7955 | Accuracy: 55.62%\n"
     ]
    },
    {
     "name": "stderr",
     "output_type": "stream",
     "text": [
      "Epoch 9/10: 100%|██████████| 1184/1184 [02:24<00:00,  8.17it/s, loss=1.1570]\n"
     ]
    },
    {
     "name": "stdout",
     "output_type": "stream",
     "text": [
      "Epoch 9 completed in 144.90s | Loss: 1.7389 | Accuracy: 57.17%\n"
     ]
    },
    {
     "name": "stderr",
     "output_type": "stream",
     "text": [
      "Epoch 10/10: 100%|██████████| 1184/1184 [02:25<00:00,  8.15it/s, loss=2.0037]"
     ]
    },
    {
     "name": "stdout",
     "output_type": "stream",
     "text": [
      "Epoch 10 completed in 145.29s | Loss: 1.6896 | Accuracy: 58.38%\n",
      "------------------------------------------------------------\n",
      "Finished Standard Training.\n",
      "Total Time for 10 epochs: 1425.38 seconds\n",
      "Final Training Loss: 1.6896\n",
      "Final Training Accuracy: 58.38%\n",
      "------------------------------------------------------------\n"
     ]
    },
    {
     "name": "stderr",
     "output_type": "stream",
     "text": [
      "\n"
     ]
    }
   ],
   "execution_count": 1
  },
  {
   "metadata": {},
   "cell_type": "code",
   "outputs": [],
   "execution_count": null,
   "source": "",
   "id": "a8cc1847603c4549"
  }
 ],
 "metadata": {
  "kernelspec": {
   "display_name": "Python 3",
   "language": "python",
   "name": "python3"
  },
  "language_info": {
   "codemirror_mode": {
    "name": "ipython",
    "version": 2
   },
   "file_extension": ".py",
   "mimetype": "text/x-python",
   "name": "python",
   "nbconvert_exporter": "python",
   "pygments_lexer": "ipython2",
   "version": "2.7.6"
  }
 },
 "nbformat": 4,
 "nbformat_minor": 5
}
