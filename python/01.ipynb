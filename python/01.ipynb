{
 "cells": [
  {
   "cell_type": "code",
   "id": "initial_id",
   "metadata": {
    "collapsed": true,
    "ExecuteTime": {
     "end_time": "2025-08-09T22:14:57.964558Z",
     "start_time": "2025-08-09T22:14:56.858126Z"
    }
   },
   "source": [
    "import torch\n",
    "import torch.nn as nn\n",
    "import torch.optim as optim\n",
    "from torchvision import datasets, models, transforms\n",
    "import time\n",
    "import os"
   ],
   "outputs": [],
   "execution_count": 1
  },
  {
   "metadata": {
    "ExecuteTime": {
     "end_time": "2025-08-09T22:15:40.930909Z",
     "start_time": "2025-08-09T22:15:40.833890Z"
    }
   },
   "cell_type": "code",
   "source": [
    "device = torch.device(\"cuda:0\" if torch.cuda.is_available() else \"cpu\")\n",
    "print(f\"Using device: {device}\")\n",
    "\n",
    "# Ensure reproducibility for fair comparison, if desired\n",
    "# torch.manual_seed(42)\n",
    "# if torch.cuda.is_available():\n",
    "#     torch.cuda.manual_seed_all(42)\n",
    "\n",
    "DATA_DIR = '/home/kami/Documents/datasets/'  # Directory where the 'food-101' folder will be/is located\n",
    "NUM_CLASSES = 101\n",
    "NUM_EPOCHS = 3\n",
    "BATCH_SIZE = 64  # Match the C++ version\n",
    "LEARNING_RATE = 0.001\n",
    "\n",
    "# Use more workers if your CPU has more cores to saturate the GPU pipeline\n",
    "# Match the number of workers in your C++ DataLoader for a fair test\n",
    "NUM_WORKERS = 8"
   ],
   "id": "d263b82f65ef0a8c",
   "outputs": [
    {
     "name": "stdout",
     "output_type": "stream",
     "text": [
      "Using device: cuda:0\n"
     ]
    }
   ],
   "execution_count": 3
  },
  {
   "metadata": {
    "ExecuteTime": {
     "end_time": "2025-08-09T22:15:41.979235Z",
     "start_time": "2025-08-09T22:15:41.752306Z"
    }
   },
   "cell_type": "code",
   "source": [
    "data_transforms = transforms.Compose([\n",
    "    transforms.Resize((224, 224)), # Use Resize, not RandomResizedCrop, to match the C++ version\n",
    "    transforms.ToTensor(),\n",
    "    transforms.Normalize(mean=[0.485, 0.456, 0.406], std=[0.229, 0.224, 0.225])\n",
    "])\n",
    "\n",
    "print(\"Loading Food-101 dataset...\")\n",
    "# torchvision.datasets.Food101 handles downloading and parsing automatically\n",
    "train_dataset = datasets.Food101(\n",
    "    root=DATA_DIR,\n",
    "    split='train',\n",
    "    transform=data_transforms,\n",
    "    download=False\n",
    ")\n",
    "\n",
    "# pin_memory=True is the Python equivalent of creating tensors in pinned memory\n",
    "# It speeds up CPU-to-GPU data transfers\n",
    "train_loader = torch.utils.data.DataLoader(\n",
    "    train_dataset,\n",
    "    batch_size=BATCH_SIZE,\n",
    "    shuffle=True,\n",
    "    num_workers=NUM_WORKERS,\n",
    "    pin_memory=True\n",
    ")\n"
   ],
   "id": "7e05f87203120925",
   "outputs": [
    {
     "name": "stdout",
     "output_type": "stream",
     "text": [
      "Loading Food-101 dataset...\n"
     ]
    }
   ],
   "execution_count": 4
  },
  {
   "metadata": {
    "ExecuteTime": {
     "end_time": "2025-08-09T22:18:07.260712Z",
     "start_time": "2025-08-09T22:18:07.253371Z"
    }
   },
   "cell_type": "code",
   "source": "shuffled_indices = list(iter(train_loader.sampler))",
   "id": "9005d46052eb8a0",
   "outputs": [],
   "execution_count": 10
  },
  {
   "metadata": {
    "ExecuteTime": {
     "end_time": "2025-08-09T22:18:28.107097Z",
     "start_time": "2025-08-09T22:18:28.099396Z"
    }
   },
   "cell_type": "code",
   "source": "len(shuffled_indices)",
   "id": "626d93e8169d031c",
   "outputs": [
    {
     "data": {
      "text/plain": [
       "75750"
      ]
     },
     "execution_count": 12,
     "metadata": {},
     "output_type": "execute_result"
    }
   ],
   "execution_count": 12
  },
  {
   "metadata": {},
   "cell_type": "code",
   "outputs": [],
   "execution_count": null,
   "source": "",
   "id": "e8db1ff856b89ee4"
  }
 ],
 "metadata": {
  "kernelspec": {
   "display_name": "Python 3",
   "language": "python",
   "name": "python3"
  },
  "language_info": {
   "codemirror_mode": {
    "name": "ipython",
    "version": 2
   },
   "file_extension": ".py",
   "mimetype": "text/x-python",
   "name": "python",
   "nbconvert_exporter": "python",
   "pygments_lexer": "ipython2",
   "version": "2.7.6"
  }
 },
 "nbformat": 4,
 "nbformat_minor": 5
}
