{
 "cells": [
  {
   "cell_type": "code",
   "id": "initial_id",
   "metadata": {
    "collapsed": true,
    "ExecuteTime": {
     "end_time": "2025-08-10T19:05:18.415667Z",
     "start_time": "2025-08-10T19:05:18.413634Z"
    }
   },
   "source": [
    "import torch\n",
    "import torch.nn as nn\n",
    "import torch.optim as optim\n",
    "from torchvision import datasets, models, transforms\n",
    "import time\n",
    "import os"
   ],
   "outputs": [],
   "execution_count": 5
  },
  {
   "metadata": {
    "ExecuteTime": {
     "end_time": "2025-08-10T19:05:18.761384Z",
     "start_time": "2025-08-10T19:05:18.753721Z"
    }
   },
   "cell_type": "code",
   "source": [
    "\"\"\"\n",
    "Main function to fine-tune VGG16_BN on the Food-101 dataset.\n",
    "\"\"\"\n",
    "# --- 1. Configuration ---\n",
    "device = torch.device(\"cuda:0\" if torch.cuda.is_available() else \"cpu\")\n",
    "print(f\"Using device: {device}\")\n",
    "\n",
    "# Ensure reproducibility for fair comparison, if desired\n",
    "# torch.manual_seed(42)\n",
    "# if torch.cuda.is_available():\n",
    "#     torch.cuda.manual_seed_all(42)\n",
    "\n",
    "DATA_DIR = '/home/kami/Documents/datasets/'  # Directory where the 'food-101' folder will be/is located\n",
    "NUM_CLASSES = 101\n",
    "NUM_EPOCHS = 3\n",
    "BATCH_SIZE = 64  # Match the C++ version\n",
    "LEARNING_RATE = 0.001\n",
    "\n",
    "# Use more workers if your CPU has more cores to saturate the GPU pipeline\n",
    "# Match the number of workers in your C++ DataLoader for a fair test\n",
    "NUM_WORKERS = 8\n"
   ],
   "id": "9f2196287cbfe8e7",
   "outputs": [
    {
     "name": "stdout",
     "output_type": "stream",
     "text": [
      "Using device: cuda:0\n"
     ]
    }
   ],
   "execution_count": 6
  },
  {
   "metadata": {
    "ExecuteTime": {
     "end_time": "2025-08-10T19:05:19.267174Z",
     "start_time": "2025-08-10T19:05:19.098234Z"
    }
   },
   "cell_type": "code",
   "source": [
    "# --- 2. Data Loading and Transformations ---\n",
    "# The transformations must exactly match the logic in the C++ Dataset\n",
    "data_transforms = transforms.Compose([\n",
    "    transforms.Resize((224, 224)), # Use Resize, not RandomResizedCrop, to match the C++ version\n",
    "    transforms.ToTensor(),\n",
    "    transforms.Normalize(mean=[0.485, 0.456, 0.406], std=[0.229, 0.224, 0.225])\n",
    "])\n",
    "\n",
    "print(\"Loading Food-101 dataset...\")\n",
    "# torchvision.datasets.Food101 handles downloading and parsing automatically\n",
    "train_dataset = datasets.Food101(\n",
    "    root=DATA_DIR,\n",
    "    split='train',\n",
    "    transform=data_transforms,\n",
    "    download=False\n",
    ")\n",
    "\n",
    "# pin_memory=True is the Python equivalent of creating tensors in pinned memory\n",
    "# It speeds up CPU-to-GPU data transfers\n",
    "train_loader = torch.utils.data.DataLoader(\n",
    "    train_dataset,\n",
    "    batch_size=BATCH_SIZE,\n",
    "    shuffle=True,\n",
    "    num_workers=NUM_WORKERS,\n",
    "    pin_memory=True\n",
    ")\n",
    "\n",
    "dataset_size = len(train_dataset)\n",
    "print(f\"Training data loaded: {dataset_size} images.\")\n"
   ],
   "id": "4d3ca20288b6ed30",
   "outputs": [
    {
     "name": "stdout",
     "output_type": "stream",
     "text": [
      "Loading Food-101 dataset...\n",
      "Training data loaded: 75750 images.\n"
     ]
    }
   ],
   "execution_count": 7
  },
  {
   "metadata": {
    "ExecuteTime": {
     "end_time": "2025-08-10T19:05:20.461058Z",
     "start_time": "2025-08-10T19:05:19.488959Z"
    }
   },
   "cell_type": "code",
   "source": [
    "# --- 3. Model Loading and Modification ---\n",
    "print(\"Loading pre-trained VGG16_BN model...\")\n",
    "model = models.vgg16_bn(pretrained=True)\n",
    "\n",
    "# --- 4. Freeze Layers and Prepare for Fine-Tuning ---\n",
    "# Freeze the convolutional base ('features')\n",
    "for param in model.features.parameters():\n",
    "    param.requires_grad = False\n",
    "\n",
    "# Replace the classifier with a new one for our task.\n",
    "# The new layers will have requires_grad=True by default.\n",
    "num_ftrs_in_classifier = model.classifier[0].in_features\n",
    "model.classifier = nn.Sequential(\n",
    "    nn.Linear(num_ftrs_in_classifier, 4096),\n",
    "    nn.ReLU(True),\n",
    "    nn.Dropout(0.5),\n",
    "    nn.Linear(4096, 4096),\n",
    "    nn.ReLU(True),\n",
    "    nn.Dropout(0.5),\n",
    "    nn.Linear(4096, NUM_CLASSES)\n",
    ")\n",
    "\n",
    "model.to(device)\n",
    "\n",
    "# Collect only the parameters to be trained\n",
    "# This is equivalent to what we did in C++\n",
    "params_to_update = model.classifier.parameters()\n",
    "\n",
    "print(f\"Model modified. Only the classifier parameters will be trained.\")\n",
    "\n",
    "# --- 5. Training Loop ---\n",
    "criterion = nn.CrossEntropyLoss()\n",
    "# Use the same optimizer and learning rate as the C++ version\n",
    "optimizer = optim.Adam(params_to_update, lr=LEARNING_RATE)\n",
    "\n",
    "print(\"\\nStarting Python fine-tuning...\")\n"
   ],
   "id": "9648477f50eefe5a",
   "outputs": [
    {
     "name": "stdout",
     "output_type": "stream",
     "text": [
      "Loading pre-trained VGG16_BN model...\n",
      "Model modified. Only the classifier parameters will be trained.\n",
      "\n",
      "Starting Python fine-tuning...\n"
     ]
    }
   ],
   "execution_count": 8
  },
  {
   "metadata": {
    "ExecuteTime": {
     "end_time": "2025-08-10T19:21:23.417220Z",
     "start_time": "2025-08-10T19:14:29.135315Z"
    }
   },
   "cell_type": "code",
   "source": [
    "start_time = time.time()\n",
    "\n",
    "for epoch in range(NUM_EPOCHS):\n",
    "    model.train()  # Set model to training mode\n",
    "\n",
    "    running_loss = 0.0\n",
    "    running_corrects = 0\n",
    "\n",
    "    # Using enumerate to get batch index for logging\n",
    "    for i, (inputs, labels) in enumerate(train_loader):\n",
    "        # The DataLoader with pin_memory=True and a non_blocking=True transfer\n",
    "        # is the most efficient way to move data to the GPU.\n",
    "        inputs = inputs.to(device, non_blocking=True)\n",
    "        labels = labels.to(device, non_blocking=True)\n",
    "\n",
    "        optimizer.zero_grad()\n",
    "\n",
    "        outputs = model(inputs)\n",
    "        loss = criterion(outputs, labels)\n",
    "        _, preds = torch.max(outputs, 1)\n",
    "\n",
    "        loss.backward()\n",
    "        optimizer.step()\n",
    "\n",
    "        running_loss += loss.item() * inputs.size(0)\n",
    "        running_corrects += torch.sum(preds == labels.data)\n",
    "\n",
    "        if (i + 1) % 100 == 0:\n",
    "            print(f'  Epoch [{epoch+1}/{NUM_EPOCHS}], Batch [{i+1}/{len(train_loader)}], Loss: {loss.item():.4f}')\n",
    "\n",
    "    epoch_loss = running_loss / dataset_size\n",
    "    epoch_acc = running_corrects.double() / dataset_size\n",
    "\n",
    "    print(f'Epoch {epoch+1} Summary -> Loss: {epoch_loss:.4f} | Accuracy: {epoch_acc:.4f}')\n",
    "\n",
    "end_time = time.time()\n",
    "total_time = end_time - start_time\n",
    "print(f\"\\nPython fine-tuning complete in {total_time:.2f} seconds.\")\n"
   ],
   "id": "f5bbaf41ab9a055c",
   "outputs": [
    {
     "name": "stdout",
     "output_type": "stream",
     "text": [
      "  Epoch [1/3], Batch [100/1184], Loss: 3.0110\n",
      "  Epoch [1/3], Batch [200/1184], Loss: 2.4173\n",
      "  Epoch [1/3], Batch [300/1184], Loss: 3.0285\n",
      "  Epoch [1/3], Batch [400/1184], Loss: 2.4507\n",
      "  Epoch [1/3], Batch [500/1184], Loss: 2.7916\n",
      "  Epoch [1/3], Batch [600/1184], Loss: 2.6780\n",
      "  Epoch [1/3], Batch [700/1184], Loss: 3.1023\n",
      "  Epoch [1/3], Batch [800/1184], Loss: 2.6548\n",
      "  Epoch [1/3], Batch [900/1184], Loss: 2.8215\n",
      "  Epoch [1/3], Batch [1000/1184], Loss: 3.5009\n",
      "  Epoch [1/3], Batch [1100/1184], Loss: 2.5314\n",
      "Epoch 1 Summary -> Loss: 2.7349 | Accuracy: 0.3450\n",
      "  Epoch [2/3], Batch [100/1184], Loss: 3.0354\n",
      "  Epoch [2/3], Batch [200/1184], Loss: 2.4057\n",
      "  Epoch [2/3], Batch [300/1184], Loss: 2.8338\n",
      "  Epoch [2/3], Batch [400/1184], Loss: 2.4909\n",
      "  Epoch [2/3], Batch [500/1184], Loss: 2.8286\n",
      "  Epoch [2/3], Batch [600/1184], Loss: 2.7255\n",
      "  Epoch [2/3], Batch [700/1184], Loss: 2.8626\n",
      "  Epoch [2/3], Batch [800/1184], Loss: 2.4871\n",
      "  Epoch [2/3], Batch [900/1184], Loss: 2.3762\n",
      "  Epoch [2/3], Batch [1000/1184], Loss: 2.4484\n",
      "  Epoch [2/3], Batch [1100/1184], Loss: 2.8525\n",
      "Epoch 2 Summary -> Loss: 2.6409 | Accuracy: 0.3629\n",
      "  Epoch [3/3], Batch [100/1184], Loss: 2.8274\n",
      "  Epoch [3/3], Batch [200/1184], Loss: 2.5027\n",
      "  Epoch [3/3], Batch [300/1184], Loss: 2.2899\n",
      "  Epoch [3/3], Batch [400/1184], Loss: 2.5860\n",
      "  Epoch [3/3], Batch [500/1184], Loss: 2.3405\n",
      "  Epoch [3/3], Batch [600/1184], Loss: 2.5880\n",
      "  Epoch [3/3], Batch [700/1184], Loss: 2.7742\n",
      "  Epoch [3/3], Batch [800/1184], Loss: 2.2409\n",
      "  Epoch [3/3], Batch [900/1184], Loss: 2.6645\n",
      "  Epoch [3/3], Batch [1000/1184], Loss: 2.2392\n",
      "  Epoch [3/3], Batch [1100/1184], Loss: 2.3784\n",
      "Epoch 3 Summary -> Loss: 2.5587 | Accuracy: 0.3823\n",
      "\n",
      "Python fine-tuning complete in 414.28 seconds.\n"
     ]
    }
   ],
   "execution_count": 10
  },
  {
   "metadata": {},
   "cell_type": "code",
   "outputs": [],
   "execution_count": null,
   "source": "",
   "id": "cd1b14371620e89d"
  }
 ],
 "metadata": {
  "kernelspec": {
   "display_name": "Python 3",
   "language": "python",
   "name": "python3"
  },
  "language_info": {
   "codemirror_mode": {
    "name": "ipython",
    "version": 2
   },
   "file_extension": ".py",
   "mimetype": "text/x-python",
   "name": "python",
   "nbconvert_exporter": "python",
   "pygments_lexer": "ipython2",
   "version": "2.7.6"
  }
 },
 "nbformat": 4,
 "nbformat_minor": 5
}
