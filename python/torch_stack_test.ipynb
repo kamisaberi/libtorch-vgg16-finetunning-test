{
 "cells": [
  {
   "cell_type": "code",
   "id": "initial_id",
   "metadata": {
    "collapsed": true,
    "ExecuteTime": {
     "end_time": "2025-08-09T23:32:48.649566Z",
     "start_time": "2025-08-09T23:32:48.645426Z"
    }
   },
   "source": [
    "import torch\n",
    "\n",
    "# Create a list of tensors that all have the SAME shape\n",
    "same_shape_tensors = [\n",
    "    torch.randn(3, 4),\n",
    "    torch.randn(3, 4),\n",
    "    torch.randn(3, 4),\n",
    "    torch.randn(3, 4)\n",
    "]\n",
    "\n",
    "# Stack them along a new dimension (dimension 0)\n",
    "# The shape will become (4, 3, 4)\n",
    "stacked_tensors = torch.stack(same_shape_tensors, dim=0)\n",
    "\n",
    "print(f\"Shape of stacked tensor: {stacked_tensors.shape}\\n\")\n",
    "\n",
    "# Now you can use PyTorch's powerful indexing and slicing\n",
    "# Get the first tensor (at index 0)\n",
    "first = stacked_tensors[0]\n",
    "print(f\"First tensor's shape: {first.shape}\\n\")\n",
    "\n",
    "# Get the middle two tensors (a slice from index 1 to 3)\n",
    "middle_slice = stacked_tensors[1:3]\n",
    "print(f\"Slice's shape: {middle_slice.shape}\\n\")\n",
    "\n",
    "# Get the middle two tensors (a slice from index 1 to 3)\n",
    "middle_slice = stacked_tensors[[1,3]]\n",
    "print(f\"Slice's shape: {middle_slice.shape}\\n\")\n",
    "\n",
    "# Get the top-left element of all tensors\n",
    "top_left_elements = stacked_tensors[:, 0, 0]\n",
    "print(f\"Top-left element of each tensor: {top_left_elements}\")\n",
    "stacked_tensors[0] = torch.randn(3, 4)"
   ],
   "outputs": [
    {
     "name": "stdout",
     "output_type": "stream",
     "text": [
      "Shape of stacked tensor: torch.Size([4, 3, 4])\n",
      "\n",
      "First tensor's shape: torch.Size([3, 4])\n",
      "\n",
      "Slice's shape: torch.Size([2, 3, 4])\n",
      "\n",
      "Slice's shape: torch.Size([2, 3, 4])\n",
      "\n",
      "Top-left element of each tensor: tensor([-0.2327,  0.1089, -0.0740, -0.5822])\n"
     ]
    }
   ],
   "execution_count": 7
  },
  {
   "metadata": {},
   "cell_type": "code",
   "outputs": [],
   "execution_count": null,
   "source": "",
   "id": "49b8c336984f5c26"
  }
 ],
 "metadata": {
  "kernelspec": {
   "display_name": "Python 3",
   "language": "python",
   "name": "python3"
  },
  "language_info": {
   "codemirror_mode": {
    "name": "ipython",
    "version": 2
   },
   "file_extension": ".py",
   "mimetype": "text/x-python",
   "name": "python",
   "nbconvert_exporter": "python",
   "pygments_lexer": "ipython2",
   "version": "2.7.6"
  }
 },
 "nbformat": 4,
 "nbformat_minor": 5
}
