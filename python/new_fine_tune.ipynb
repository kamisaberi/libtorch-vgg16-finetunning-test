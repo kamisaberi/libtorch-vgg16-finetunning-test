{
 "cells": [
  {
   "cell_type": "code",
   "id": "initial_id",
   "metadata": {
    "collapsed": true,
    "ExecuteTime": {
     "end_time": "2025-08-10T20:58:20.090642Z",
     "start_time": "2025-08-10T20:58:18.992855Z"
    }
   },
   "source": [
    "import torch\n",
    "import torch.nn as nn\n",
    "import torch.optim as optim\n",
    "from torchvision import datasets, models, transforms\n",
    "import time\n",
    "import os"
   ],
   "outputs": [],
   "execution_count": 1
  },
  {
   "metadata": {
    "ExecuteTime": {
     "end_time": "2025-08-10T20:58:20.190947Z",
     "start_time": "2025-08-10T20:58:20.132625Z"
    }
   },
   "cell_type": "code",
   "source": [
    "device = torch.device(\"cuda:0\" if torch.cuda.is_available() else \"cpu\")\n",
    "print(f\"Using device: {device}\")\n",
    "DATA_DIR = '/home/kami/Documents/datasets/'  # Directory where the 'food-101' folder will be/is located\n",
    "NUM_CLASSES = 101\n",
    "NUM_EPOCHS = 3\n",
    "BATCH_SIZE = 64  # Match the C++ version\n",
    "LEARNING_RATE = 0.001\n",
    "NUM_WORKERS = 8"
   ],
   "id": "a81db714f1cffe2c",
   "outputs": [
    {
     "name": "stdout",
     "output_type": "stream",
     "text": [
      "Using device: cuda:0\n"
     ]
    }
   ],
   "execution_count": 2
  },
  {
   "metadata": {
    "ExecuteTime": {
     "end_time": "2025-08-10T20:58:20.342467Z",
     "start_time": "2025-08-10T20:58:20.198619Z"
    }
   },
   "cell_type": "code",
   "source": [
    "# --- 2. Data Loading and Transformations ---\n",
    "# The transformations must exactly match the logic in the C++ Dataset\n",
    "data_transforms = transforms.Compose([\n",
    "    transforms.Resize((224, 224)),  # Use Resize, not RandomResizedCrop, to match the C++ version\n",
    "    transforms.ToTensor(),\n",
    "    transforms.Normalize(mean=[0.485, 0.456, 0.406], std=[0.229, 0.224, 0.225])\n",
    "])\n",
    "\n",
    "print(\"Loading Food-101 dataset...\")\n",
    "# torchvision.datasets.Food101 handles downloading and parsing automatically\n",
    "train_dataset = datasets.Food101(\n",
    "    root=DATA_DIR,\n",
    "    split='train',\n",
    "    transform=data_transforms,\n",
    "    download=False\n",
    ")\n",
    "\n",
    "# pin_memory=True is the Python equivalent of creating tensors in pinned memory\n",
    "# It speeds up CPU-to-GPU data transfers\n",
    "train_loader = torch.utils.data.DataLoader(\n",
    "    train_dataset,\n",
    "    batch_size=BATCH_SIZE,\n",
    "    shuffle=True,\n",
    "    num_workers=NUM_WORKERS,\n",
    "    pin_memory=True\n",
    ")\n",
    "\n",
    "dataset_size = len(train_dataset)\n",
    "print(f\"Training data loaded: {dataset_size} images.\")\n"
   ],
   "id": "3a060e292bff580f",
   "outputs": [
    {
     "name": "stdout",
     "output_type": "stream",
     "text": [
      "Loading Food-101 dataset...\n",
      "Training data loaded: 75750 images.\n"
     ]
    }
   ],
   "execution_count": 3
  },
  {
   "metadata": {
    "ExecuteTime": {
     "end_time": "2025-08-10T20:58:24.106568Z",
     "start_time": "2025-08-10T20:58:23.422929Z"
    }
   },
   "cell_type": "code",
   "source": [
    "# --- 3. Model Loading and Modification ---\n",
    "print(\"Loading pre-trained VGG16_BN model...\")\n",
    "vgg16_bn = models.vgg16_bn(weights=models.VGG16_BN_Weights.DEFAULT)\n",
    "\n",
    "# To prevent the pretrained weights from being updated during training\n",
    "for param in vgg16_bn.features.parameters():\n",
    "    param.requires_grad = False\n"
   ],
   "id": "a0fd24817d3a64a8",
   "outputs": [
    {
     "name": "stdout",
     "output_type": "stream",
     "text": [
      "Loading pre-trained VGG16_BN model...\n"
     ]
    }
   ],
   "execution_count": 4
  },
  {
   "metadata": {
    "ExecuteTime": {
     "end_time": "2025-08-10T20:58:27.056523Z",
     "start_time": "2025-08-10T20:58:27.045182Z"
    }
   },
   "cell_type": "code",
   "source": [
    "class ModifiedVGG16(nn.Module):\n",
    "    def __init__(self, original_model, fine_tune_mode: bool = False, record_count: int = 0):\n",
    "        super(ModifiedVGG16, self).__init__()\n",
    "        # Separate the features and the classifier from the original model\n",
    "        self.features = original_model.features\n",
    "        self.avgpool = original_model.avgpool\n",
    "        self.fine_tune_mode = fine_tune_mode\n",
    "        self.record_count = record_count\n",
    "        self.frozen_data = torch.stack([torch.zeros(25088) for _ in range(record_count)], dim=0)\n",
    "        self.features.eval()\n",
    "\n",
    "        # Example of adding a new custom classifier\n",
    "        # self.classifier = nn.Sequential(\n",
    "        #     nn.Linear(25088, 4096),\n",
    "        #     nn.ReLU(inplace=True),\n",
    "        #     nn.Dropout(),\n",
    "        #     nn.Linear(4096, 1024),\n",
    "        #     nn.ReLU(inplace=True),\n",
    "        #     nn.Dropout(),\n",
    "        #     nn.Linear(1024, 10)  # Assuming 10 output classes\n",
    "        # )\n",
    "\n",
    "    def forward(self, x, sampler_indices: list[int] = None):\n",
    "        if not self.fine_tune_mode:\n",
    "            # Pass the input through the feature extractor\n",
    "            x = self.features(x)\n",
    "            x = self.avgpool(x)\n",
    "            x = torch.flatten(x, 1)\n",
    "\n",
    "            # Pass the features through the new classifier\n",
    "            x = self.classifier(x)\n",
    "            return x\n",
    "        else:\n",
    "\n",
    "            # Pass the input through the feature extractor\n",
    "            if sampler_indices is not None and self.frozen_data[sampler_indices].sum() == 0:\n",
    "                x = self.features(x)\n",
    "                x = self.avgpool(x)\n",
    "                x = torch.flatten(x, 1)\n",
    "                self.frozen_data[sampler_indices] = x\n",
    "\n",
    "            x = self.classifier(self.frozen_data[sampler_indices])\n",
    "            return x\n"
   ],
   "id": "e14bf0b33acad8f9",
   "outputs": [],
   "execution_count": 5
  },
  {
   "metadata": {
    "ExecuteTime": {
     "end_time": "2025-08-10T20:58:35.411396Z",
     "start_time": "2025-08-10T20:58:31.020587Z"
    }
   },
   "cell_type": "code",
   "source": [
    "# 3. Instantiate your modified model\n",
    "model = ModifiedVGG16(vgg16_bn,True, len(train_dataset))\n",
    "\n",
    "# Print the new model structure\n",
    "# print(model)\n",
    "\n",
    "num_ftrs_in_classifier = vgg16_bn.classifier[0].in_features\n",
    "model.classifier = nn.Sequential(\n",
    "    nn.Linear(num_ftrs_in_classifier, 4096),\n",
    "    nn.ReLU(True),\n",
    "    nn.Dropout(0.5),\n",
    "    nn.Linear(4096, 4096),\n",
    "    nn.ReLU(True),\n",
    "    nn.Dropout(0.5),\n",
    "    nn.Linear(4096, NUM_CLASSES)\n",
    ")\n",
    "\n",
    "\n",
    "model.to(device)\n",
    "\n",
    "model.frozen_data = model.frozen_data.to(device)"
   ],
   "id": "7876dcf8d68eb29e",
   "outputs": [],
   "execution_count": 6
  },
  {
   "metadata": {
    "ExecuteTime": {
     "end_time": "2025-08-10T20:58:36.151800Z",
     "start_time": "2025-08-10T20:58:36.144010Z"
    }
   },
   "cell_type": "code",
   "source": "model.record_count",
   "id": "7db7ae14399015fa",
   "outputs": [
    {
     "data": {
      "text/plain": [
       "75750"
      ]
     },
     "execution_count": 7,
     "metadata": {},
     "output_type": "execute_result"
    }
   ],
   "execution_count": 7
  },
  {
   "metadata": {
    "ExecuteTime": {
     "end_time": "2025-08-10T20:58:36.919864Z",
     "start_time": "2025-08-10T20:58:36.914650Z"
    }
   },
   "cell_type": "code",
   "source": "model",
   "id": "65240a95cf807fa5",
   "outputs": [
    {
     "data": {
      "text/plain": [
       "ModifiedVGG16(\n",
       "  (features): Sequential(\n",
       "    (0): Conv2d(3, 64, kernel_size=(3, 3), stride=(1, 1), padding=(1, 1))\n",
       "    (1): BatchNorm2d(64, eps=1e-05, momentum=0.1, affine=True, track_running_stats=True)\n",
       "    (2): ReLU(inplace=True)\n",
       "    (3): Conv2d(64, 64, kernel_size=(3, 3), stride=(1, 1), padding=(1, 1))\n",
       "    (4): BatchNorm2d(64, eps=1e-05, momentum=0.1, affine=True, track_running_stats=True)\n",
       "    (5): ReLU(inplace=True)\n",
       "    (6): MaxPool2d(kernel_size=2, stride=2, padding=0, dilation=1, ceil_mode=False)\n",
       "    (7): Conv2d(64, 128, kernel_size=(3, 3), stride=(1, 1), padding=(1, 1))\n",
       "    (8): BatchNorm2d(128, eps=1e-05, momentum=0.1, affine=True, track_running_stats=True)\n",
       "    (9): ReLU(inplace=True)\n",
       "    (10): Conv2d(128, 128, kernel_size=(3, 3), stride=(1, 1), padding=(1, 1))\n",
       "    (11): BatchNorm2d(128, eps=1e-05, momentum=0.1, affine=True, track_running_stats=True)\n",
       "    (12): ReLU(inplace=True)\n",
       "    (13): MaxPool2d(kernel_size=2, stride=2, padding=0, dilation=1, ceil_mode=False)\n",
       "    (14): Conv2d(128, 256, kernel_size=(3, 3), stride=(1, 1), padding=(1, 1))\n",
       "    (15): BatchNorm2d(256, eps=1e-05, momentum=0.1, affine=True, track_running_stats=True)\n",
       "    (16): ReLU(inplace=True)\n",
       "    (17): Conv2d(256, 256, kernel_size=(3, 3), stride=(1, 1), padding=(1, 1))\n",
       "    (18): BatchNorm2d(256, eps=1e-05, momentum=0.1, affine=True, track_running_stats=True)\n",
       "    (19): ReLU(inplace=True)\n",
       "    (20): Conv2d(256, 256, kernel_size=(3, 3), stride=(1, 1), padding=(1, 1))\n",
       "    (21): BatchNorm2d(256, eps=1e-05, momentum=0.1, affine=True, track_running_stats=True)\n",
       "    (22): ReLU(inplace=True)\n",
       "    (23): MaxPool2d(kernel_size=2, stride=2, padding=0, dilation=1, ceil_mode=False)\n",
       "    (24): Conv2d(256, 512, kernel_size=(3, 3), stride=(1, 1), padding=(1, 1))\n",
       "    (25): BatchNorm2d(512, eps=1e-05, momentum=0.1, affine=True, track_running_stats=True)\n",
       "    (26): ReLU(inplace=True)\n",
       "    (27): Conv2d(512, 512, kernel_size=(3, 3), stride=(1, 1), padding=(1, 1))\n",
       "    (28): BatchNorm2d(512, eps=1e-05, momentum=0.1, affine=True, track_running_stats=True)\n",
       "    (29): ReLU(inplace=True)\n",
       "    (30): Conv2d(512, 512, kernel_size=(3, 3), stride=(1, 1), padding=(1, 1))\n",
       "    (31): BatchNorm2d(512, eps=1e-05, momentum=0.1, affine=True, track_running_stats=True)\n",
       "    (32): ReLU(inplace=True)\n",
       "    (33): MaxPool2d(kernel_size=2, stride=2, padding=0, dilation=1, ceil_mode=False)\n",
       "    (34): Conv2d(512, 512, kernel_size=(3, 3), stride=(1, 1), padding=(1, 1))\n",
       "    (35): BatchNorm2d(512, eps=1e-05, momentum=0.1, affine=True, track_running_stats=True)\n",
       "    (36): ReLU(inplace=True)\n",
       "    (37): Conv2d(512, 512, kernel_size=(3, 3), stride=(1, 1), padding=(1, 1))\n",
       "    (38): BatchNorm2d(512, eps=1e-05, momentum=0.1, affine=True, track_running_stats=True)\n",
       "    (39): ReLU(inplace=True)\n",
       "    (40): Conv2d(512, 512, kernel_size=(3, 3), stride=(1, 1), padding=(1, 1))\n",
       "    (41): BatchNorm2d(512, eps=1e-05, momentum=0.1, affine=True, track_running_stats=True)\n",
       "    (42): ReLU(inplace=True)\n",
       "    (43): MaxPool2d(kernel_size=2, stride=2, padding=0, dilation=1, ceil_mode=False)\n",
       "  )\n",
       "  (avgpool): AdaptiveAvgPool2d(output_size=(7, 7))\n",
       "  (classifier): Sequential(\n",
       "    (0): Linear(in_features=25088, out_features=4096, bias=True)\n",
       "    (1): ReLU(inplace=True)\n",
       "    (2): Dropout(p=0.5, inplace=False)\n",
       "    (3): Linear(in_features=4096, out_features=4096, bias=True)\n",
       "    (4): ReLU(inplace=True)\n",
       "    (5): Dropout(p=0.5, inplace=False)\n",
       "    (6): Linear(in_features=4096, out_features=101, bias=True)\n",
       "  )\n",
       ")"
      ]
     },
     "execution_count": 8,
     "metadata": {},
     "output_type": "execute_result"
    }
   ],
   "execution_count": 8
  },
  {
   "metadata": {
    "ExecuteTime": {
     "end_time": "2025-08-10T21:05:23.395213Z",
     "start_time": "2025-08-10T20:58:37.731325Z"
    }
   },
   "cell_type": "code",
   "source": [
    "params_to_update = model.classifier.parameters()\n",
    "\n",
    "print(f\"Model modified. Only the classifier parameters will be trained.\")\n",
    "\n",
    "# --- 5. Training Loop ---\n",
    "criterion = nn.CrossEntropyLoss()\n",
    "# Use the same optimizer and learning rate as the C++ version\n",
    "optimizer = optim.Adam(params_to_update, lr=LEARNING_RATE)\n",
    "\n",
    "print(\"\\nStarting Python fine-tuning...\")\n",
    "start_time = time.time()\n",
    "\n",
    "for epoch in range(NUM_EPOCHS):\n",
    "    model.train()  # Set model to training mode\n",
    "\n",
    "    running_loss = 0.0\n",
    "    running_corrects = 0\n",
    "\n",
    "    shuffled_indices = list(iter(train_loader.sampler))\n",
    "    # Using enumerate to get batch index for logging\n",
    "    for i, (inputs, labels) in enumerate(train_loader):\n",
    "        start_index = i * train_loader.batch_size\n",
    "        end_index = start_index + train_loader.batch_size\n",
    "        batch_indices = shuffled_indices[start_index:end_index]        # The DataLoader with pin_memory=True and a non_blocking=True transfer\n",
    "        # is the most efficient way to move data to the GPU.\n",
    "        inputs = inputs.to(device, non_blocking=True)\n",
    "        labels = labels.to(device, non_blocking=True)\n",
    "\n",
    "        optimizer.zero_grad()\n",
    "\n",
    "        outputs = model.forward(inputs, batch_indices)\n",
    "        loss = criterion(outputs, labels)\n",
    "        _, preds = torch.max(outputs, 1)\n",
    "\n",
    "        loss.backward()\n",
    "        optimizer.step()\n",
    "\n",
    "        running_loss += loss.item() * inputs.size(0)\n",
    "        running_corrects += torch.sum(preds == labels.data)\n",
    "\n",
    "        if (i + 1) % 100 == 0:\n",
    "            print(f'  Epoch [{epoch + 1}/{NUM_EPOCHS}], Batch [{i + 1}/{len(train_loader)}], Loss: {loss.item():.4f}')\n",
    "\n",
    "    epoch_loss = running_loss / dataset_size\n",
    "    epoch_acc = running_corrects.double() / dataset_size\n",
    "\n",
    "    print(f'Epoch {epoch + 1} Summary -> Loss: {epoch_loss:.4f} | Accuracy: {epoch_acc:.4f}')\n",
    "\n",
    "end_time = time.time()\n",
    "total_time = end_time - start_time\n",
    "print(f\"\\nPython fine-tuning complete in {total_time:.2f} seconds.\")\n"
   ],
   "id": "cbf7355882f1f352",
   "outputs": [
    {
     "name": "stdout",
     "output_type": "stream",
     "text": [
      "Model modified. Only the classifier parameters will be trained.\n",
      "\n",
      "Starting Python fine-tuning...\n",
      "  Epoch [1/3], Batch [100/1184], Loss: 3.5235\n",
      "  Epoch [1/3], Batch [200/1184], Loss: 3.6109\n",
      "  Epoch [1/3], Batch [300/1184], Loss: 3.1709\n",
      "  Epoch [1/3], Batch [400/1184], Loss: 3.4255\n",
      "  Epoch [1/3], Batch [500/1184], Loss: 3.1353\n",
      "  Epoch [1/3], Batch [600/1184], Loss: 3.1358\n",
      "  Epoch [1/3], Batch [700/1184], Loss: 3.0467\n",
      "  Epoch [1/3], Batch [800/1184], Loss: 3.0166\n",
      "  Epoch [1/3], Batch [900/1184], Loss: 3.0785\n",
      "  Epoch [1/3], Batch [1000/1184], Loss: 3.0607\n",
      "  Epoch [1/3], Batch [1100/1184], Loss: 3.4543\n",
      "Epoch 1 Summary -> Loss: 3.3877 | Accuracy: 0.2065\n",
      "  Epoch [2/3], Batch [100/1184], Loss: 3.2038\n",
      "  Epoch [2/3], Batch [200/1184], Loss: 3.3213\n",
      "  Epoch [2/3], Batch [300/1184], Loss: 2.5970\n",
      "  Epoch [2/3], Batch [400/1184], Loss: 2.6550\n",
      "  Epoch [2/3], Batch [500/1184], Loss: 2.6115\n",
      "  Epoch [2/3], Batch [600/1184], Loss: 3.5412\n",
      "  Epoch [2/3], Batch [700/1184], Loss: 3.3349\n",
      "  Epoch [2/3], Batch [800/1184], Loss: 2.7476\n",
      "  Epoch [2/3], Batch [900/1184], Loss: 2.6116\n",
      "  Epoch [2/3], Batch [1000/1184], Loss: 3.2545\n",
      "  Epoch [2/3], Batch [1100/1184], Loss: 3.2940\n",
      "Epoch 2 Summary -> Loss: 2.9314 | Accuracy: 0.2994\n",
      "  Epoch [3/3], Batch [100/1184], Loss: 2.8671\n",
      "  Epoch [3/3], Batch [200/1184], Loss: 2.9513\n",
      "  Epoch [3/3], Batch [300/1184], Loss: 2.4567\n",
      "  Epoch [3/3], Batch [400/1184], Loss: 3.0745\n",
      "  Epoch [3/3], Batch [500/1184], Loss: 2.9183\n",
      "  Epoch [3/3], Batch [600/1184], Loss: 2.9812\n",
      "  Epoch [3/3], Batch [700/1184], Loss: 3.1157\n",
      "  Epoch [3/3], Batch [800/1184], Loss: 2.9718\n",
      "  Epoch [3/3], Batch [900/1184], Loss: 2.9012\n",
      "  Epoch [3/3], Batch [1000/1184], Loss: 2.8991\n",
      "  Epoch [3/3], Batch [1100/1184], Loss: 2.9007\n",
      "Epoch 3 Summary -> Loss: 2.7654 | Accuracy: 0.3367\n",
      "\n",
      "Python fine-tuning complete in 405.66 seconds.\n"
     ]
    }
   ],
   "execution_count": 9
  },
  {
   "metadata": {},
   "cell_type": "code",
   "source": "",
   "id": "bebdb792bde6f788",
   "outputs": [],
   "execution_count": null
  }
 ],
 "metadata": {
  "kernelspec": {
   "display_name": "Python 3",
   "language": "python",
   "name": "python3"
  },
  "language_info": {
   "codemirror_mode": {
    "name": "ipython",
    "version": 2
   },
   "file_extension": ".py",
   "mimetype": "text/x-python",
   "name": "python",
   "nbconvert_exporter": "python",
   "pygments_lexer": "ipython2",
   "version": "2.7.6"
  }
 },
 "nbformat": 4,
 "nbformat_minor": 5
}
