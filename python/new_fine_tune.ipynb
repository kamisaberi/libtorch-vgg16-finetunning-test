{
 "cells": [
  {
   "cell_type": "code",
   "id": "initial_id",
   "metadata": {
    "collapsed": true,
    "ExecuteTime": {
     "end_time": "2025-08-10T19:39:35.721122Z",
     "start_time": "2025-08-10T19:39:34.625272Z"
    }
   },
   "source": [
    "import torch\n",
    "import torch.nn as nn\n",
    "import torch.optim as optim\n",
    "from torchvision import datasets, models, transforms\n",
    "import time\n",
    "import os"
   ],
   "outputs": [],
   "execution_count": 1
  },
  {
   "metadata": {
    "ExecuteTime": {
     "end_time": "2025-08-10T19:39:36.747784Z",
     "start_time": "2025-08-10T19:39:36.668353Z"
    }
   },
   "cell_type": "code",
   "source": [
    "device = torch.device(\"cuda:0\" if torch.cuda.is_available() else \"cpu\")\n",
    "print(f\"Using device: {device}\")\n",
    "DATA_DIR = '/home/kami/Documents/datasets/'  # Directory where the 'food-101' folder will be/is located\n",
    "NUM_CLASSES = 101\n",
    "NUM_EPOCHS = 3\n",
    "BATCH_SIZE = 64  # Match the C++ version\n",
    "LEARNING_RATE = 0.001\n",
    "NUM_WORKERS = 8"
   ],
   "id": "a81db714f1cffe2c",
   "outputs": [
    {
     "name": "stdout",
     "output_type": "stream",
     "text": [
      "Using device: cuda:0\n"
     ]
    }
   ],
   "execution_count": 2
  },
  {
   "metadata": {
    "ExecuteTime": {
     "end_time": "2025-08-10T19:39:37.672691Z",
     "start_time": "2025-08-10T19:39:37.527694Z"
    }
   },
   "cell_type": "code",
   "source": [
    "# --- 2. Data Loading and Transformations ---\n",
    "# The transformations must exactly match the logic in the C++ Dataset\n",
    "data_transforms = transforms.Compose([\n",
    "    transforms.Resize((224, 224)),  # Use Resize, not RandomResizedCrop, to match the C++ version\n",
    "    transforms.ToTensor(),\n",
    "    transforms.Normalize(mean=[0.485, 0.456, 0.406], std=[0.229, 0.224, 0.225])\n",
    "])\n",
    "\n",
    "print(\"Loading Food-101 dataset...\")\n",
    "# torchvision.datasets.Food101 handles downloading and parsing automatically\n",
    "train_dataset = datasets.Food101(\n",
    "    root=DATA_DIR,\n",
    "    split='train',\n",
    "    transform=data_transforms,\n",
    "    download=False\n",
    ")\n",
    "\n",
    "# pin_memory=True is the Python equivalent of creating tensors in pinned memory\n",
    "# It speeds up CPU-to-GPU data transfers\n",
    "train_loader = torch.utils.data.DataLoader(\n",
    "    train_dataset,\n",
    "    batch_size=BATCH_SIZE,\n",
    "    shuffle=True,\n",
    "    num_workers=NUM_WORKERS,\n",
    "    pin_memory=True\n",
    ")\n",
    "\n",
    "dataset_size = len(train_dataset)\n",
    "print(f\"Training data loaded: {dataset_size} images.\")\n"
   ],
   "id": "3a060e292bff580f",
   "outputs": [
    {
     "name": "stdout",
     "output_type": "stream",
     "text": [
      "Loading Food-101 dataset...\n",
      "Training data loaded: 75750 images.\n"
     ]
    }
   ],
   "execution_count": 3
  },
  {
   "metadata": {
    "ExecuteTime": {
     "end_time": "2025-08-10T19:39:38.925395Z",
     "start_time": "2025-08-10T19:39:38.249944Z"
    }
   },
   "cell_type": "code",
   "source": [
    "# --- 3. Model Loading and Modification ---\n",
    "print(\"Loading pre-trained VGG16_BN model...\")\n",
    "vgg16_bn = models.vgg16_bn(weights=models.VGG16_BN_Weights.DEFAULT)\n",
    "\n",
    "# To prevent the pretrained weights from being updated during training\n",
    "for param in vgg16_bn.features.parameters():\n",
    "    param.requires_grad = False\n"
   ],
   "id": "a0fd24817d3a64a8",
   "outputs": [
    {
     "name": "stdout",
     "output_type": "stream",
     "text": [
      "Loading pre-trained VGG16_BN model...\n"
     ]
    }
   ],
   "execution_count": 4
  },
  {
   "metadata": {
    "ExecuteTime": {
     "end_time": "2025-08-10T19:39:38.952756Z",
     "start_time": "2025-08-10T19:39:38.949864Z"
    }
   },
   "cell_type": "code",
   "source": [
    "class ModifiedVGG16(nn.Module):\n",
    "    def __init__(self, original_model, fine_tune_mode: bool = False, record_count: int = 0):\n",
    "        super(ModifiedVGG16, self).__init__()\n",
    "        # Separate the features and the classifier from the original model\n",
    "        self.features = original_model.features\n",
    "        self.avgpool = original_model.avgpool\n",
    "        self.fine_tune_mode = fine_tune_mode\n",
    "        self.record_count = record_count\n",
    "        self.frozen_data = torch.stack([torch.zeros(25088) for _ in range(record_count)], dim=0)\n",
    "\n",
    "        # Example of adding a new custom classifier\n",
    "        self.classifier = nn.Sequential(\n",
    "            nn.Linear(25088, 4096),\n",
    "            nn.ReLU(inplace=True),\n",
    "            nn.Dropout(),\n",
    "            nn.Linear(4096, 1024),\n",
    "            nn.ReLU(inplace=True),\n",
    "            nn.Dropout(),\n",
    "            nn.Linear(1024, 10)  # Assuming 10 output classes\n",
    "        )\n",
    "\n",
    "    def forward(self, x, sampler_indices: list[int] = None):\n",
    "        if not self.fine_tune_mode:\n",
    "            # Pass the input through the feature extractor\n",
    "            x = self.features(x)\n",
    "            x = self.avgpool(x)\n",
    "            x = torch.flatten(x, 1)\n",
    "\n",
    "            # Pass the features through the new classifier\n",
    "            x = self.classifier(x)\n",
    "            return x\n",
    "        else:\n",
    "            # Pass the input through the feature extractor\n",
    "            if sampler_indices is not None and self.frozen_data[sampler_indices].sum() == 0:\n",
    "                x = self.features(x)\n",
    "                x = self.avgpool(x)\n",
    "                x = torch.flatten(x, 1)\n",
    "                self.frozen_data[sampler_indices] = x\n",
    "\n",
    "            x = self.classifier(self.frozen_data[sampler_indices])\n",
    "            return x\n"
   ],
   "id": "e14bf0b33acad8f9",
   "outputs": [],
   "execution_count": 5
  },
  {
   "metadata": {
    "ExecuteTime": {
     "end_time": "2025-08-10T19:39:44.302902Z",
     "start_time": "2025-08-10T19:39:39.775786Z"
    }
   },
   "cell_type": "code",
   "source": [
    "# 3. Instantiate your modified model\n",
    "model = ModifiedVGG16(vgg16_bn,True, len(train_dataset))\n",
    "\n",
    "# Print the new model structure\n",
    "# print(model)\n",
    "model.to(device)\n",
    "num_ftrs_in_classifier = model.classifier[0].in_features\n",
    "model.classifier = nn.Sequential(\n",
    "    nn.Linear(num_ftrs_in_classifier, 4096),\n",
    "    nn.ReLU(True),\n",
    "    nn.Dropout(0.5),\n",
    "    nn.Linear(4096, 4096),\n",
    "    nn.ReLU(True),\n",
    "    nn.Dropout(0.5),\n",
    "    nn.Linear(4096, NUM_CLASSES)\n",
    ")\n",
    "\n",
    "\n",
    "model.frozen_data = model.frozen_data.to(device)"
   ],
   "id": "7876dcf8d68eb29e",
   "outputs": [],
   "execution_count": 6
  },
  {
   "metadata": {
    "ExecuteTime": {
     "end_time": "2025-08-10T19:39:45.885541Z",
     "start_time": "2025-08-10T19:39:45.877102Z"
    }
   },
   "cell_type": "code",
   "source": "model.record_count",
   "id": "7db7ae14399015fa",
   "outputs": [
    {
     "data": {
      "text/plain": [
       "75750"
      ]
     },
     "execution_count": 7,
     "metadata": {},
     "output_type": "execute_result"
    }
   ],
   "execution_count": 7
  },
  {
   "metadata": {
    "ExecuteTime": {
     "end_time": "2025-08-10T19:39:47.975993Z",
     "start_time": "2025-08-10T19:39:46.757190Z"
    }
   },
   "cell_type": "code",
   "source": [
    "params_to_update = model.classifier.parameters()\n",
    "\n",
    "print(f\"Model modified. Only the classifier parameters will be trained.\")\n",
    "\n",
    "# --- 5. Training Loop ---\n",
    "criterion = nn.CrossEntropyLoss()\n",
    "# Use the same optimizer and learning rate as the C++ version\n",
    "optimizer = optim.Adam(params_to_update, lr=LEARNING_RATE)\n",
    "\n",
    "print(\"\\nStarting Python fine-tuning...\")\n",
    "start_time = time.time()\n",
    "\n",
    "for epoch in range(NUM_EPOCHS):\n",
    "    model.train()  # Set model to training mode\n",
    "\n",
    "    running_loss = 0.0\n",
    "    running_corrects = 0\n",
    "\n",
    "    shuffled_indices = list(iter(train_loader.sampler))\n",
    "    # Using enumerate to get batch index for logging\n",
    "    for i, (inputs, labels) in enumerate(train_loader):\n",
    "        start_index = i * train_loader.batch_size\n",
    "        end_index = start_index + train_loader.batch_size\n",
    "        batch_indices = shuffled_indices[start_index:end_index]        # The DataLoader with pin_memory=True and a non_blocking=True transfer\n",
    "        # is the most efficient way to move data to the GPU.\n",
    "        inputs = inputs.to(device, non_blocking=True)\n",
    "        labels = labels.to(device, non_blocking=True)\n",
    "\n",
    "        optimizer.zero_grad()\n",
    "\n",
    "        outputs = model.forward(inputs, batch_indices)\n",
    "        loss = criterion(outputs, labels)\n",
    "        _, preds = torch.max(outputs, 1)\n",
    "\n",
    "        loss.backward()\n",
    "        optimizer.step()\n",
    "\n",
    "        running_loss += loss.item() * inputs.size(0)\n",
    "        running_corrects += torch.sum(preds == labels.data)\n",
    "\n",
    "        if (i + 1) % 100 == 0:\n",
    "            print(f'  Epoch [{epoch + 1}/{NUM_EPOCHS}], Batch [{i + 1}/{len(train_loader)}], Loss: {loss.item():.4f}')\n",
    "\n",
    "    epoch_loss = running_loss / dataset_size\n",
    "    epoch_acc = running_corrects.double() / dataset_size\n",
    "\n",
    "    print(f'Epoch {epoch + 1} Summary -> Loss: {epoch_loss:.4f} | Accuracy: {epoch_acc:.4f}')\n",
    "\n",
    "end_time = time.time()\n",
    "total_time = end_time - start_time\n",
    "print(f\"\\nPython fine-tuning complete in {total_time:.2f} seconds.\")\n"
   ],
   "id": "cbf7355882f1f352",
   "outputs": [
    {
     "name": "stdout",
     "output_type": "stream",
     "text": [
      "Model modified. Only the classifier parameters will be trained.\n",
      "\n",
      "Starting Python fine-tuning...\n"
     ]
    },
    {
     "ename": "RuntimeError",
     "evalue": "Expected all tensors to be on the same device, but found at least two devices, cpu and cuda:0! (when checking argument for argument mat1 in method wrapper_CUDA_addmm)",
     "output_type": "error",
     "traceback": [
      "\u001B[31m---------------------------------------------------------------------------\u001B[39m",
      "\u001B[31mRuntimeError\u001B[39m                              Traceback (most recent call last)",
      "\u001B[36mCell\u001B[39m\u001B[36m \u001B[39m\u001B[32mIn[8]\u001B[39m\u001B[32m, line 31\u001B[39m\n\u001B[32m     27\u001B[39m labels = labels.to(device, non_blocking=\u001B[38;5;28;01mTrue\u001B[39;00m)\n\u001B[32m     29\u001B[39m optimizer.zero_grad()\n\u001B[32m---> \u001B[39m\u001B[32m31\u001B[39m outputs = \u001B[43mmodel\u001B[49m\u001B[43m.\u001B[49m\u001B[43mforward\u001B[49m\u001B[43m(\u001B[49m\u001B[43minputs\u001B[49m\u001B[43m,\u001B[49m\u001B[43m \u001B[49m\u001B[43mbatch_indices\u001B[49m\u001B[43m)\u001B[49m\n\u001B[32m     32\u001B[39m loss = criterion(outputs, labels)\n\u001B[32m     33\u001B[39m _, preds = torch.max(outputs, \u001B[32m1\u001B[39m)\n",
      "\u001B[36mCell\u001B[39m\u001B[36m \u001B[39m\u001B[32mIn[5]\u001B[39m\u001B[32m, line 40\u001B[39m, in \u001B[36mModifiedVGG16.forward\u001B[39m\u001B[34m(self, x, sampler_indices)\u001B[39m\n\u001B[32m     37\u001B[39m     x = torch.flatten(x, \u001B[32m1\u001B[39m)\n\u001B[32m     38\u001B[39m     \u001B[38;5;28mself\u001B[39m.frozen_data[sampler_indices] = x\n\u001B[32m---> \u001B[39m\u001B[32m40\u001B[39m x = \u001B[38;5;28;43mself\u001B[39;49m\u001B[43m.\u001B[49m\u001B[43mclassifier\u001B[49m\u001B[43m(\u001B[49m\u001B[38;5;28;43mself\u001B[39;49m\u001B[43m.\u001B[49m\u001B[43mfrozen_data\u001B[49m\u001B[43m[\u001B[49m\u001B[43msampler_indices\u001B[49m\u001B[43m]\u001B[49m\u001B[43m)\u001B[49m\n\u001B[32m     41\u001B[39m \u001B[38;5;28;01mreturn\u001B[39;00m x\n",
      "\u001B[36mFile \u001B[39m\u001B[32m~/venv/cuda312/lib/python3.12/site-packages/torch/nn/modules/module.py:1751\u001B[39m, in \u001B[36mModule._wrapped_call_impl\u001B[39m\u001B[34m(self, *args, **kwargs)\u001B[39m\n\u001B[32m   1749\u001B[39m     \u001B[38;5;28;01mreturn\u001B[39;00m \u001B[38;5;28mself\u001B[39m._compiled_call_impl(*args, **kwargs)  \u001B[38;5;66;03m# type: ignore[misc]\u001B[39;00m\n\u001B[32m   1750\u001B[39m \u001B[38;5;28;01melse\u001B[39;00m:\n\u001B[32m-> \u001B[39m\u001B[32m1751\u001B[39m     \u001B[38;5;28;01mreturn\u001B[39;00m \u001B[38;5;28;43mself\u001B[39;49m\u001B[43m.\u001B[49m\u001B[43m_call_impl\u001B[49m\u001B[43m(\u001B[49m\u001B[43m*\u001B[49m\u001B[43margs\u001B[49m\u001B[43m,\u001B[49m\u001B[43m \u001B[49m\u001B[43m*\u001B[49m\u001B[43m*\u001B[49m\u001B[43mkwargs\u001B[49m\u001B[43m)\u001B[49m\n",
      "\u001B[36mFile \u001B[39m\u001B[32m~/venv/cuda312/lib/python3.12/site-packages/torch/nn/modules/module.py:1762\u001B[39m, in \u001B[36mModule._call_impl\u001B[39m\u001B[34m(self, *args, **kwargs)\u001B[39m\n\u001B[32m   1757\u001B[39m \u001B[38;5;66;03m# If we don't have any hooks, we want to skip the rest of the logic in\u001B[39;00m\n\u001B[32m   1758\u001B[39m \u001B[38;5;66;03m# this function, and just call forward.\u001B[39;00m\n\u001B[32m   1759\u001B[39m \u001B[38;5;28;01mif\u001B[39;00m \u001B[38;5;129;01mnot\u001B[39;00m (\u001B[38;5;28mself\u001B[39m._backward_hooks \u001B[38;5;129;01mor\u001B[39;00m \u001B[38;5;28mself\u001B[39m._backward_pre_hooks \u001B[38;5;129;01mor\u001B[39;00m \u001B[38;5;28mself\u001B[39m._forward_hooks \u001B[38;5;129;01mor\u001B[39;00m \u001B[38;5;28mself\u001B[39m._forward_pre_hooks\n\u001B[32m   1760\u001B[39m         \u001B[38;5;129;01mor\u001B[39;00m _global_backward_pre_hooks \u001B[38;5;129;01mor\u001B[39;00m _global_backward_hooks\n\u001B[32m   1761\u001B[39m         \u001B[38;5;129;01mor\u001B[39;00m _global_forward_hooks \u001B[38;5;129;01mor\u001B[39;00m _global_forward_pre_hooks):\n\u001B[32m-> \u001B[39m\u001B[32m1762\u001B[39m     \u001B[38;5;28;01mreturn\u001B[39;00m \u001B[43mforward_call\u001B[49m\u001B[43m(\u001B[49m\u001B[43m*\u001B[49m\u001B[43margs\u001B[49m\u001B[43m,\u001B[49m\u001B[43m \u001B[49m\u001B[43m*\u001B[49m\u001B[43m*\u001B[49m\u001B[43mkwargs\u001B[49m\u001B[43m)\u001B[49m\n\u001B[32m   1764\u001B[39m result = \u001B[38;5;28;01mNone\u001B[39;00m\n\u001B[32m   1765\u001B[39m called_always_called_hooks = \u001B[38;5;28mset\u001B[39m()\n",
      "\u001B[36mFile \u001B[39m\u001B[32m~/venv/cuda312/lib/python3.12/site-packages/torch/nn/modules/container.py:240\u001B[39m, in \u001B[36mSequential.forward\u001B[39m\u001B[34m(self, input)\u001B[39m\n\u001B[32m    238\u001B[39m \u001B[38;5;28;01mdef\u001B[39;00m\u001B[38;5;250m \u001B[39m\u001B[34mforward\u001B[39m(\u001B[38;5;28mself\u001B[39m, \u001B[38;5;28minput\u001B[39m):\n\u001B[32m    239\u001B[39m     \u001B[38;5;28;01mfor\u001B[39;00m module \u001B[38;5;129;01min\u001B[39;00m \u001B[38;5;28mself\u001B[39m:\n\u001B[32m--> \u001B[39m\u001B[32m240\u001B[39m         \u001B[38;5;28minput\u001B[39m = \u001B[43mmodule\u001B[49m\u001B[43m(\u001B[49m\u001B[38;5;28;43minput\u001B[39;49m\u001B[43m)\u001B[49m\n\u001B[32m    241\u001B[39m     \u001B[38;5;28;01mreturn\u001B[39;00m \u001B[38;5;28minput\u001B[39m\n",
      "\u001B[36mFile \u001B[39m\u001B[32m~/venv/cuda312/lib/python3.12/site-packages/torch/nn/modules/module.py:1751\u001B[39m, in \u001B[36mModule._wrapped_call_impl\u001B[39m\u001B[34m(self, *args, **kwargs)\u001B[39m\n\u001B[32m   1749\u001B[39m     \u001B[38;5;28;01mreturn\u001B[39;00m \u001B[38;5;28mself\u001B[39m._compiled_call_impl(*args, **kwargs)  \u001B[38;5;66;03m# type: ignore[misc]\u001B[39;00m\n\u001B[32m   1750\u001B[39m \u001B[38;5;28;01melse\u001B[39;00m:\n\u001B[32m-> \u001B[39m\u001B[32m1751\u001B[39m     \u001B[38;5;28;01mreturn\u001B[39;00m \u001B[38;5;28;43mself\u001B[39;49m\u001B[43m.\u001B[49m\u001B[43m_call_impl\u001B[49m\u001B[43m(\u001B[49m\u001B[43m*\u001B[49m\u001B[43margs\u001B[49m\u001B[43m,\u001B[49m\u001B[43m \u001B[49m\u001B[43m*\u001B[49m\u001B[43m*\u001B[49m\u001B[43mkwargs\u001B[49m\u001B[43m)\u001B[49m\n",
      "\u001B[36mFile \u001B[39m\u001B[32m~/venv/cuda312/lib/python3.12/site-packages/torch/nn/modules/module.py:1762\u001B[39m, in \u001B[36mModule._call_impl\u001B[39m\u001B[34m(self, *args, **kwargs)\u001B[39m\n\u001B[32m   1757\u001B[39m \u001B[38;5;66;03m# If we don't have any hooks, we want to skip the rest of the logic in\u001B[39;00m\n\u001B[32m   1758\u001B[39m \u001B[38;5;66;03m# this function, and just call forward.\u001B[39;00m\n\u001B[32m   1759\u001B[39m \u001B[38;5;28;01mif\u001B[39;00m \u001B[38;5;129;01mnot\u001B[39;00m (\u001B[38;5;28mself\u001B[39m._backward_hooks \u001B[38;5;129;01mor\u001B[39;00m \u001B[38;5;28mself\u001B[39m._backward_pre_hooks \u001B[38;5;129;01mor\u001B[39;00m \u001B[38;5;28mself\u001B[39m._forward_hooks \u001B[38;5;129;01mor\u001B[39;00m \u001B[38;5;28mself\u001B[39m._forward_pre_hooks\n\u001B[32m   1760\u001B[39m         \u001B[38;5;129;01mor\u001B[39;00m _global_backward_pre_hooks \u001B[38;5;129;01mor\u001B[39;00m _global_backward_hooks\n\u001B[32m   1761\u001B[39m         \u001B[38;5;129;01mor\u001B[39;00m _global_forward_hooks \u001B[38;5;129;01mor\u001B[39;00m _global_forward_pre_hooks):\n\u001B[32m-> \u001B[39m\u001B[32m1762\u001B[39m     \u001B[38;5;28;01mreturn\u001B[39;00m \u001B[43mforward_call\u001B[49m\u001B[43m(\u001B[49m\u001B[43m*\u001B[49m\u001B[43margs\u001B[49m\u001B[43m,\u001B[49m\u001B[43m \u001B[49m\u001B[43m*\u001B[49m\u001B[43m*\u001B[49m\u001B[43mkwargs\u001B[49m\u001B[43m)\u001B[49m\n\u001B[32m   1764\u001B[39m result = \u001B[38;5;28;01mNone\u001B[39;00m\n\u001B[32m   1765\u001B[39m called_always_called_hooks = \u001B[38;5;28mset\u001B[39m()\n",
      "\u001B[36mFile \u001B[39m\u001B[32m~/venv/cuda312/lib/python3.12/site-packages/torch/nn/modules/linear.py:125\u001B[39m, in \u001B[36mLinear.forward\u001B[39m\u001B[34m(self, input)\u001B[39m\n\u001B[32m    124\u001B[39m \u001B[38;5;28;01mdef\u001B[39;00m\u001B[38;5;250m \u001B[39m\u001B[34mforward\u001B[39m(\u001B[38;5;28mself\u001B[39m, \u001B[38;5;28minput\u001B[39m: Tensor) -> Tensor:\n\u001B[32m--> \u001B[39m\u001B[32m125\u001B[39m     \u001B[38;5;28;01mreturn\u001B[39;00m \u001B[43mF\u001B[49m\u001B[43m.\u001B[49m\u001B[43mlinear\u001B[49m\u001B[43m(\u001B[49m\u001B[38;5;28;43minput\u001B[39;49m\u001B[43m,\u001B[49m\u001B[43m \u001B[49m\u001B[38;5;28;43mself\u001B[39;49m\u001B[43m.\u001B[49m\u001B[43mweight\u001B[49m\u001B[43m,\u001B[49m\u001B[43m \u001B[49m\u001B[38;5;28;43mself\u001B[39;49m\u001B[43m.\u001B[49m\u001B[43mbias\u001B[49m\u001B[43m)\u001B[49m\n",
      "\u001B[31mRuntimeError\u001B[39m: Expected all tensors to be on the same device, but found at least two devices, cpu and cuda:0! (when checking argument for argument mat1 in method wrapper_CUDA_addmm)"
     ]
    }
   ],
   "execution_count": 8
  },
  {
   "metadata": {},
   "cell_type": "code",
   "source": "",
   "id": "bebdb792bde6f788",
   "outputs": [],
   "execution_count": null
  }
 ],
 "metadata": {
  "kernelspec": {
   "display_name": "Python 3",
   "language": "python",
   "name": "python3"
  },
  "language_info": {
   "codemirror_mode": {
    "name": "ipython",
    "version": 2
   },
   "file_extension": ".py",
   "mimetype": "text/x-python",
   "name": "python",
   "nbconvert_exporter": "python",
   "pygments_lexer": "ipython2",
   "version": "2.7.6"
  }
 },
 "nbformat": 4,
 "nbformat_minor": 5
}
